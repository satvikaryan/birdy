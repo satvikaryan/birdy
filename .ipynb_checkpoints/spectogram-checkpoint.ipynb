{
 "cells": [
  {
   "cell_type": "code",
   "execution_count": 1,
   "id": "72ca2888-3441-4998-ae1f-f94ac1018853",
   "metadata": {},
   "outputs": [],
   "source": [
    "import os\n",
    "import librosa\n",
    "import librosa.display\n",
    "import IPython.display as ipd\n",
    "import numpy as np\n",
    "import matplotlib.pyplot as plt"
   ]
  },
  {
   "cell_type": "code",
   "execution_count": 2,
   "id": "05f63fc0-0559-437f-8b44-fe189a109b5f",
   "metadata": {},
   "outputs": [
    {
     "ename": "ValueError",
     "evalue": "rate must be specified when data is a numpy array or list of audio samples.",
     "output_type": "error",
     "traceback": [
      "\u001b[0;31m---------------------------------------------------------------------------\u001b[0m",
      "\u001b[0;31mValueError\u001b[0m                                Traceback (most recent call last)",
      "Cell \u001b[0;32mIn[2], line 3\u001b[0m\n\u001b[1;32m      1\u001b[0m \u001b[38;5;66;03m# y, sr = librosa.load(\"/home/satvikaryan/design_assignment/wav/dash_1.wav\")\u001b[39;00m\n\u001b[1;32m      2\u001b[0m audio_data \u001b[38;5;241m=\u001b[39m \u001b[38;5;124m\"\u001b[39m\u001b[38;5;124m/home/satvikaryan/design_assignment/wav/dash_1.wav\u001b[39m\u001b[38;5;124m\"\u001b[39m\n\u001b[0;32m----> 3\u001b[0m \u001b[43mipd\u001b[49m\u001b[38;5;241;43m.\u001b[39;49m\u001b[43mAudio\u001b[49m\u001b[43m(\u001b[49m\u001b[43maudio_data\u001b[49m\u001b[43m)\u001b[49m\n",
      "File \u001b[0;32m~/.local/lib/python3.8/site-packages/IPython/lib/display.py:129\u001b[0m, in \u001b[0;36mAudio.__init__\u001b[0;34m(self, data, filename, url, embed, rate, autoplay, normalize, element_id)\u001b[0m\n\u001b[1;32m    127\u001b[0m \u001b[38;5;28;01mif\u001b[39;00m \u001b[38;5;28mself\u001b[39m\u001b[38;5;241m.\u001b[39mdata \u001b[38;5;129;01mis\u001b[39;00m \u001b[38;5;129;01mnot\u001b[39;00m \u001b[38;5;28;01mNone\u001b[39;00m \u001b[38;5;129;01mand\u001b[39;00m \u001b[38;5;129;01mnot\u001b[39;00m \u001b[38;5;28misinstance\u001b[39m(\u001b[38;5;28mself\u001b[39m\u001b[38;5;241m.\u001b[39mdata, \u001b[38;5;28mbytes\u001b[39m):\n\u001b[1;32m    128\u001b[0m     \u001b[38;5;28;01mif\u001b[39;00m rate \u001b[38;5;129;01mis\u001b[39;00m \u001b[38;5;28;01mNone\u001b[39;00m:\n\u001b[0;32m--> 129\u001b[0m         \u001b[38;5;28;01mraise\u001b[39;00m \u001b[38;5;167;01mValueError\u001b[39;00m(\u001b[38;5;124m\"\u001b[39m\u001b[38;5;124mrate must be specified when data is a numpy array or list of audio samples.\u001b[39m\u001b[38;5;124m\"\u001b[39m)\n\u001b[1;32m    130\u001b[0m     \u001b[38;5;28mself\u001b[39m\u001b[38;5;241m.\u001b[39mdata \u001b[38;5;241m=\u001b[39m Audio\u001b[38;5;241m.\u001b[39m_make_wav(data, rate, normalize)\n",
      "\u001b[0;31mValueError\u001b[0m: rate must be specified when data is a numpy array or list of audio samples."
     ]
    }
   ],
   "source": [
    "# y, sr = librosa.load(\"/home/satvikaryan/design_assignment/wav/dash_1.wav\")\n",
    "audio_data = \"/home/satvikaryan/birdy/wav/dash_1.wav\"\n",
    "ipd.Audio(audio_data)"
   ]
  },
  {
   "cell_type": "code",
   "execution_count": null,
   "id": "096a2901-f74b-44bc-9075-a86302d17848",
   "metadata": {},
   "outputs": [],
   "source": [
    "audio, sample_rate = librosa.load(audio_data)"
   ]
  },
  {
   "cell_type": "code",
   "execution_count": null,
   "id": "9221d5ca-8e26-454b-ad01-6acf419b7f40",
   "metadata": {},
   "outputs": [],
   "source": [
    "frameSize = 2048\n",
    "hopSize = 512"
   ]
  },
  {
   "cell_type": "code",
   "execution_count": null,
   "id": "8418d28c-a899-4979-a876-4b9bd414790c",
   "metadata": {},
   "outputs": [],
   "source": [
    "stft_audio = librosa.stft(audio, n_fft = frameSize, hop_length = hopSize)"
   ]
  },
  {
   "cell_type": "code",
   "execution_count": null,
   "id": "31f77b8e-db47-44bf-b2dc-8042e1d58697",
   "metadata": {},
   "outputs": [],
   "source": [
    "stft_audio.shape"
   ]
  },
  {
   "cell_type": "code",
   "execution_count": null,
   "id": "7847ffb8-d512-4e17-8b65-078d512fae33",
   "metadata": {},
   "outputs": [],
   "source": [
    "y_audio = np.abs(stft_audio) ** 2\n",
    "y_audio.shape"
   ]
  },
  {
   "cell_type": "code",
   "execution_count": null,
   "id": "5f17c503-fa04-444f-b766-45fecc3e4fa1",
   "metadata": {},
   "outputs": [],
   "source": [
    "def plot_spectrogram(y, sr, hop_length, y_axis = \"linear\"):\n",
    "    plt.figure(figsize = (25,10))\n",
    "    librosa.display.specshow(y, sr = sr, hop_length = hop_length, x_axis = \"time\", y_axis = y_axis)\n",
    "    plt.colorbar(format=\"%+2.f\")"
   ]
  },
  {
   "cell_type": "code",
   "execution_count": null,
   "id": "b316cac3-ec7e-4321-8aff-7e771db5fa4c",
   "metadata": {},
   "outputs": [],
   "source": [
    "plot_spectrogram(y_audio, sample_rate, hopSize)"
   ]
  },
  {
   "cell_type": "code",
   "execution_count": null,
   "id": "e34344c1-8816-47cf-81a1-3f25b975a335",
   "metadata": {},
   "outputs": [],
   "source": [
    "y_log_audio = librosa.power_to_db(y_audio)\n",
    "plot_spectrogram(y_log_audio, sample_rate, hopSize)"
   ]
  },
  {
   "cell_type": "code",
   "execution_count": null,
   "id": "10712c66-0e3e-406a-9d2d-2a5806729577",
   "metadata": {},
   "outputs": [],
   "source": [
    "plot_spectrogram(y_log_audio, sample_rate, hopSize, y_axis = \"log\")"
   ]
  },
  {
   "cell_type": "code",
   "execution_count": null,
   "id": "cf172bf2-0031-4471-92b2-7fd89546b3e5",
   "metadata": {},
   "outputs": [],
   "source": [
    "mel_spectrogram = librosa.feature.melspectrogram(y=audio, sr=sample_rate)"
   ]
  },
  {
   "cell_type": "code",
   "execution_count": null,
   "id": "6133f756-f47c-41a1-9e01-5b221034be59",
   "metadata": {},
   "outputs": [],
   "source": [
    "mel_spectrogram_db = librosa.power_to_db(mel_spectrogram, ref=np.max)"
   ]
  },
  {
   "cell_type": "code",
   "execution_count": null,
   "id": "e5e25914-972b-485a-9f59-0355d940d620",
   "metadata": {},
   "outputs": [],
   "source": [
    "plt.figure(figsize=(10, 4))\n",
    "librosa.display.specshow(mel_spectrogram_db, x_axis='time', y_axis='mel', sr=sample_rate, cmap='viridis')\n",
    "plt.colorbar(format='%+2.0f dB')\n",
    "plt.title('Mel Spectrogram')\n",
    "plt.show()"
   ]
  }
 ],
 "metadata": {
  "kernelspec": {
   "display_name": "Python 3 (ipykernel)",
   "language": "python",
   "name": "python3"
  },
  "language_info": {
   "codemirror_mode": {
    "name": "ipython",
    "version": 3
   },
   "file_extension": ".py",
   "mimetype": "text/x-python",
   "name": "python",
   "nbconvert_exporter": "python",
   "pygments_lexer": "ipython3",
   "version": "3.8.10"
  }
 },
 "nbformat": 4,
 "nbformat_minor": 5
}
